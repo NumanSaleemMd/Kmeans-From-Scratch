{
 "cells": [
  {
   "cell_type": "markdown",
   "metadata": {},
   "source": [
    "# import  Data"
   ]
  },
  {
   "cell_type": "markdown",
   "metadata": {},
   "source": [
    "This excercise was created in attempt to understand Kmeans clustering algorithm along with it. I learned how to built Kmean from scratch  and understand it working principal"
   ]
  },
  {
   "cell_type": "code",
   "execution_count": 1,
   "metadata": {},
   "outputs": [],
   "source": [
    "import matplotlib.pyplot as plt\n",
    "import pandas as pd\n",
    "from sklearn.datasets import load_digits\n",
    "import numpy as np"
   ]
  },
  {
   "cell_type": "code",
   "execution_count": 2,
   "metadata": {},
   "outputs": [],
   "source": [
    "data=load_digits()"
   ]
  },
  {
   "cell_type": "code",
   "execution_count": 3,
   "metadata": {},
   "outputs": [
    {
     "name": "stdout",
     "output_type": "stream",
     "text": [
      "(1797, 64)\n"
     ]
    }
   ],
   "source": [
    "print(data['data'].shape)\n",
    "images=data['data']\n",
    "labels=data['target']"
   ]
  },
  {
   "cell_type": "code",
   "execution_count": 4,
   "metadata": {},
   "outputs": [
    {
     "data": {
      "text/html": [
       "<div>\n",
       "<style scoped>\n",
       "    .dataframe tbody tr th:only-of-type {\n",
       "        vertical-align: middle;\n",
       "    }\n",
       "\n",
       "    .dataframe tbody tr th {\n",
       "        vertical-align: top;\n",
       "    }\n",
       "\n",
       "    .dataframe thead th {\n",
       "        text-align: right;\n",
       "    }\n",
       "</style>\n",
       "<table border=\"1\" class=\"dataframe\">\n",
       "  <thead>\n",
       "    <tr style=\"text-align: right;\">\n",
       "      <th></th>\n",
       "      <th>Pixel0</th>\n",
       "      <th>Pixel1</th>\n",
       "      <th>Pixel2</th>\n",
       "      <th>Pixel3</th>\n",
       "      <th>Pixel4</th>\n",
       "      <th>Pixel5</th>\n",
       "      <th>Pixel6</th>\n",
       "      <th>Pixel7</th>\n",
       "      <th>Pixel8</th>\n",
       "      <th>Pixel9</th>\n",
       "      <th>...</th>\n",
       "      <th>Pixel54</th>\n",
       "      <th>Pixel55</th>\n",
       "      <th>Pixel56</th>\n",
       "      <th>Pixel57</th>\n",
       "      <th>Pixel58</th>\n",
       "      <th>Pixel59</th>\n",
       "      <th>Pixel60</th>\n",
       "      <th>Pixel61</th>\n",
       "      <th>Pixel62</th>\n",
       "      <th>Pixel63</th>\n",
       "    </tr>\n",
       "  </thead>\n",
       "  <tbody>\n",
       "    <tr>\n",
       "      <th>0</th>\n",
       "      <td>0.0</td>\n",
       "      <td>0.0</td>\n",
       "      <td>5.0</td>\n",
       "      <td>13.0</td>\n",
       "      <td>9.0</td>\n",
       "      <td>1.0</td>\n",
       "      <td>0.0</td>\n",
       "      <td>0.0</td>\n",
       "      <td>0.0</td>\n",
       "      <td>0.0</td>\n",
       "      <td>...</td>\n",
       "      <td>0.0</td>\n",
       "      <td>0.0</td>\n",
       "      <td>0.0</td>\n",
       "      <td>0.0</td>\n",
       "      <td>6.0</td>\n",
       "      <td>13.0</td>\n",
       "      <td>10.0</td>\n",
       "      <td>0.0</td>\n",
       "      <td>0.0</td>\n",
       "      <td>0.0</td>\n",
       "    </tr>\n",
       "    <tr>\n",
       "      <th>1</th>\n",
       "      <td>0.0</td>\n",
       "      <td>0.0</td>\n",
       "      <td>0.0</td>\n",
       "      <td>12.0</td>\n",
       "      <td>13.0</td>\n",
       "      <td>5.0</td>\n",
       "      <td>0.0</td>\n",
       "      <td>0.0</td>\n",
       "      <td>0.0</td>\n",
       "      <td>0.0</td>\n",
       "      <td>...</td>\n",
       "      <td>0.0</td>\n",
       "      <td>0.0</td>\n",
       "      <td>0.0</td>\n",
       "      <td>0.0</td>\n",
       "      <td>0.0</td>\n",
       "      <td>11.0</td>\n",
       "      <td>16.0</td>\n",
       "      <td>10.0</td>\n",
       "      <td>0.0</td>\n",
       "      <td>0.0</td>\n",
       "    </tr>\n",
       "    <tr>\n",
       "      <th>2</th>\n",
       "      <td>0.0</td>\n",
       "      <td>0.0</td>\n",
       "      <td>0.0</td>\n",
       "      <td>4.0</td>\n",
       "      <td>15.0</td>\n",
       "      <td>12.0</td>\n",
       "      <td>0.0</td>\n",
       "      <td>0.0</td>\n",
       "      <td>0.0</td>\n",
       "      <td>0.0</td>\n",
       "      <td>...</td>\n",
       "      <td>5.0</td>\n",
       "      <td>0.0</td>\n",
       "      <td>0.0</td>\n",
       "      <td>0.0</td>\n",
       "      <td>0.0</td>\n",
       "      <td>3.0</td>\n",
       "      <td>11.0</td>\n",
       "      <td>16.0</td>\n",
       "      <td>9.0</td>\n",
       "      <td>0.0</td>\n",
       "    </tr>\n",
       "    <tr>\n",
       "      <th>3</th>\n",
       "      <td>0.0</td>\n",
       "      <td>0.0</td>\n",
       "      <td>7.0</td>\n",
       "      <td>15.0</td>\n",
       "      <td>13.0</td>\n",
       "      <td>1.0</td>\n",
       "      <td>0.0</td>\n",
       "      <td>0.0</td>\n",
       "      <td>0.0</td>\n",
       "      <td>8.0</td>\n",
       "      <td>...</td>\n",
       "      <td>9.0</td>\n",
       "      <td>0.0</td>\n",
       "      <td>0.0</td>\n",
       "      <td>0.0</td>\n",
       "      <td>7.0</td>\n",
       "      <td>13.0</td>\n",
       "      <td>13.0</td>\n",
       "      <td>9.0</td>\n",
       "      <td>0.0</td>\n",
       "      <td>0.0</td>\n",
       "    </tr>\n",
       "    <tr>\n",
       "      <th>4</th>\n",
       "      <td>0.0</td>\n",
       "      <td>0.0</td>\n",
       "      <td>0.0</td>\n",
       "      <td>1.0</td>\n",
       "      <td>11.0</td>\n",
       "      <td>0.0</td>\n",
       "      <td>0.0</td>\n",
       "      <td>0.0</td>\n",
       "      <td>0.0</td>\n",
       "      <td>0.0</td>\n",
       "      <td>...</td>\n",
       "      <td>0.0</td>\n",
       "      <td>0.0</td>\n",
       "      <td>0.0</td>\n",
       "      <td>0.0</td>\n",
       "      <td>0.0</td>\n",
       "      <td>2.0</td>\n",
       "      <td>16.0</td>\n",
       "      <td>4.0</td>\n",
       "      <td>0.0</td>\n",
       "      <td>0.0</td>\n",
       "    </tr>\n",
       "  </tbody>\n",
       "</table>\n",
       "<p>5 rows × 64 columns</p>\n",
       "</div>"
      ],
      "text/plain": [
       "   Pixel0  Pixel1  Pixel2  Pixel3  Pixel4  Pixel5  Pixel6  Pixel7  Pixel8  \\\n",
       "0     0.0     0.0     5.0    13.0     9.0     1.0     0.0     0.0     0.0   \n",
       "1     0.0     0.0     0.0    12.0    13.0     5.0     0.0     0.0     0.0   \n",
       "2     0.0     0.0     0.0     4.0    15.0    12.0     0.0     0.0     0.0   \n",
       "3     0.0     0.0     7.0    15.0    13.0     1.0     0.0     0.0     0.0   \n",
       "4     0.0     0.0     0.0     1.0    11.0     0.0     0.0     0.0     0.0   \n",
       "\n",
       "   Pixel9  ...  Pixel54  Pixel55  Pixel56  Pixel57  Pixel58  Pixel59  Pixel60  \\\n",
       "0     0.0  ...      0.0      0.0      0.0      0.0      6.0     13.0     10.0   \n",
       "1     0.0  ...      0.0      0.0      0.0      0.0      0.0     11.0     16.0   \n",
       "2     0.0  ...      5.0      0.0      0.0      0.0      0.0      3.0     11.0   \n",
       "3     8.0  ...      9.0      0.0      0.0      0.0      7.0     13.0     13.0   \n",
       "4     0.0  ...      0.0      0.0      0.0      0.0      0.0      2.0     16.0   \n",
       "\n",
       "   Pixel61  Pixel62  Pixel63  \n",
       "0      0.0      0.0      0.0  \n",
       "1     10.0      0.0      0.0  \n",
       "2     16.0      9.0      0.0  \n",
       "3      9.0      0.0      0.0  \n",
       "4      4.0      0.0      0.0  \n",
       "\n",
       "[5 rows x 64 columns]"
      ]
     },
     "execution_count": 4,
     "metadata": {},
     "output_type": "execute_result"
    }
   ],
   "source": [
    "img_df = pd.DataFrame()\n",
    "for i in range(64):\n",
    "    img_df[f'Pixel{i}']=images[:,i]\n",
    "img_df.head()"
   ]
  },
  {
   "cell_type": "markdown",
   "metadata": {},
   "source": [
    "# Preprocess The Data"
   ]
  },
  {
   "cell_type": "code",
   "execution_count": 5,
   "metadata": {},
   "outputs": [
    {
     "data": {
      "text/plain": [
       "array([[0.    , 0.    , 0.3125, ..., 0.    , 0.    , 0.    ],\n",
       "       [0.    , 0.    , 0.    , ..., 0.625 , 0.    , 0.    ],\n",
       "       [0.    , 0.    , 0.    , ..., 1.    , 0.5625, 0.    ],\n",
       "       ...,\n",
       "       [0.    , 0.    , 0.0625, ..., 0.375 , 0.    , 0.    ],\n",
       "       [0.    , 0.    , 0.125 , ..., 0.75  , 0.    , 0.    ],\n",
       "       [0.    , 0.    , 0.625 , ..., 0.75  , 0.0625, 0.    ]])"
      ]
     },
     "execution_count": 5,
     "metadata": {},
     "output_type": "execute_result"
    }
   ],
   "source": [
    "from sklearn.preprocessing import MinMaxScaler\n",
    "Scaler=MinMaxScaler()\n",
    "scaled_df=Scaler.fit_transform(img_df)\n",
    "scaled_df"
   ]
  },
  {
   "cell_type": "markdown",
   "metadata": {},
   "source": [
    "# Fit A Model"
   ]
  },
  {
   "cell_type": "code",
   "execution_count": 6,
   "metadata": {},
   "outputs": [],
   "source": [
    "from sklearn.cluster import KMeans\n",
    "elbow={'inertia':[],'cluster':[]}\n",
    "for i in range(2,15):\n",
    "    model=KMeans(i)\n",
    "    elbow['cluster'].append(i)\n",
    "    model.fit(scaled_df)\n",
    "    elbow['inertia'].append(model.inertia_)"
   ]
  },
  {
   "cell_type": "code",
   "execution_count": 7,
   "metadata": {},
   "outputs": [
    {
     "data": {
      "image/png": "[encoded data removed]",
      "text/plain": [
       "<Figure size 432x288 with 1 Axes>"
      ]
     },
     "metadata": {
      "needs_background": "light"
     },
     "output_type": "display_data"
    }
   ],
   "source": [
    "plt.plot(elbow['cluster'],elbow['inertia'])\n",
    "plt.xlabel('No of clusters')\n",
    "plt.ylabel('Inertia')\n",
    "plt.title('Elbow curve')\n",
    "plt.show()"
   ]
  },
  {
   "cell_type": "code",
   "execution_count": 8,
   "metadata": {},
   "outputs": [
    {
     "data": {
      "text/plain": [
       "array([[2.81455371, 0.87742692, 2.44964565, ..., 2.91895349, 2.91804921,\n",
       "        2.45959351],\n",
       "       [1.59105112, 3.39846312, 2.55261673, ..., 2.25375737, 2.39819704,\n",
       "        2.7234074 ],\n",
       "       [1.94820968, 3.00576252, 3.11429481, ..., 2.48044311, 2.51401046,\n",
       "        2.85184387],\n",
       "       ...,\n",
       "       [1.59820014, 2.81396916, 2.63967404, ..., 2.61642926, 2.44793141,\n",
       "        2.74067468],\n",
       "       [2.59050978, 2.17332987, 2.5459815 , ..., 2.18714406, 2.82203073,\n",
       "        2.20786744],\n",
       "       [2.14627634, 2.58791895, 2.70879358, ..., 2.85526913, 2.32421818,\n",
       "        2.2959883 ]])"
      ]
     },
     "execution_count": 8,
     "metadata": {},
     "output_type": "execute_result"
    }
   ],
   "source": [
    "model=KMeans(10)\n",
    "model.fit_transform(scaled_df)"
   ]
  },
  {
   "cell_type": "markdown",
   "metadata": {},
   "source": [
    "# visualisation of data"
   ]
  },
  {
   "cell_type": "code",
   "execution_count": 9,
   "metadata": {},
   "outputs": [],
   "source": [
    "from sklearn.manifold import TSNE\n",
    "tsne=TSNE(2)\n",
    "sel_feature=tsne.fit_transform(scaled_df)"
   ]
  },
  {
   "cell_type": "code",
   "execution_count": 10,
   "metadata": {},
   "outputs": [
    {
     "data": {
      "text/plain": [
       "<matplotlib.collections.PathCollection at 0x2c719031eb8>"
      ]
     },
     "execution_count": 10,
     "metadata": {},
     "output_type": "execute_result"
    },
    {
     "data": {
      "image/png": "[encoded data removed]",
      "text/plain": [
       "<Figure size 432x288 with 1 Axes>"
      ]
     },
     "metadata": {
      "needs_background": "light"
     },
     "output_type": "display_data"
    }
   ],
   "source": [
    "plt.scatter(sel_feature[:,0],sel_feature[:,1],c=model.labels_)"
   ]
  },
  {
   "cell_type": "code",
   "execution_count": 20,
   "metadata": {},
   "outputs": [],
   "source": [
    "from  bokeh.io import output_notebook\n",
    "from bokeh.plotting import figure,output_file,show\n",
    "#output_notebook()\n",
    "output_file(\"Mnist.html\")"
   ]
  },
  {
   "cell_type": "code",
   "execution_count": 21,
   "metadata": {},
   "outputs": [],
   "source": [
    "def mscatter(p, x, y):\n",
    "    colors = [\n",
    "    \"#%02x%02x%02x\" % (int(r), int(g), 150) for r, g in zip(x**2-y**2,x**2-y**2)# just to give color\n",
    "    ]\n",
    "    p.scatter(x, y, marker=\"circle\", size=15,\n",
    "            color=colors)"
   ]
  },
  {
   "cell_type": "code",
   "execution_count": 24,
   "metadata": {},
   "outputs": [],
   "source": [
    "p=figure(title=\"Mnist Cluster\",plot_width=400,plot_height=450)\n",
    "traces=[] \n",
    "for i in range(10):  \n",
    "    mask=model.labels_==i\n",
    "    mscatter(p,sel_feature[:,0],sel_feature[:,1])\n",
    "#show(p)"
   ]
  },
  {
   "cell_type": "markdown",
   "metadata": {},
   "source": [
    "# Built A Model from Scratch"
   ]
  },
  {
   "cell_type": "code",
   "execution_count": 15,
   "metadata": {},
   "outputs": [],
   "source": [
    "class K_mean():\n",
    "    def __init__(self,k=3, tolerance=0.0001, max_iterations=500):\n",
    "        self.k=k\n",
    "        self.tolerance=tolerance\n",
    "        self.max_iterations=max_iterations\n",
    "    def fit(self,data):\n",
    "        self.centroid={}\n",
    "        for i in range(self.k):\n",
    "            self.centroid[i]=data[i]\n",
    "        for i  in range(self.max_iterations):\n",
    "            self.classes={}\n",
    "            for j in range(self.k):\n",
    "                self.classes[j]=[]\n",
    "            for feature in data:\n",
    "                distances=[np.linalg.norm(feature-self.centroid[centre]) for centre in range(self.k)]\n",
    "                classification = distances.index(min(distances))\n",
    "                self.classes[classification].append(feature)\n",
    "            prev=dict(self.centroid)\n",
    "            for centre in self.classes:\n",
    "                self.centroid[centre]=np.average(self.classes[centre],axis=0)\n",
    "            isOptimal = True\n",
    "\n",
    "            for centre in self.centroid:\n",
    "                original_centroid = prev[centre]\n",
    "                curr = self.centroid[centre]\n",
    "                if np.sum((curr - original_centroid)/original_centroid * 100.0) > self.tolerance:\n",
    "                    isOptimal = False\n",
    "            if isOptimal:\n",
    "                break\n",
    "    def pred(feature):\n",
    "        distance=[np.linalg.norm(feature-self.centroid[centre])\n",
    "                   for centre in range(self.k)]\n",
    "        classified=distances.index(min(distances))\n",
    "        return classified\n"
   ]
  },
  {
   "cell_type": "code",
   "execution_count": 16,
   "metadata": {},
   "outputs": [],
   "source": [
    "scratch_model=K_mean(k=10)"
   ]
  },
  {
   "cell_type": "code",
   "execution_count": 17,
   "metadata": {},
   "outputs": [],
   "source": [
    "scratch_model.fit(sel_feature)"
   ]
  },
  {
   "cell_type": "code",
   "execution_count": 18,
   "metadata": {},
   "outputs": [
    {
     "data": {
      "image/png": "[encoded data removed]",
      "text/plain": [
       "<Figure size 432x288 with 1 Axes>"
      ]
     },
     "metadata": {
      "needs_background": "light"
     },
     "output_type": "display_data"
    }
   ],
   "source": [
    "#centroid on plot\n",
    "for centroid in scratch_model.centroid:\n",
    "    plt.scatter(scratch_model.centroid[centroid][0], scratch_model.centroid[centroid][1], s = 130, marker = \"x\")"
   ]
  },
  {
   "cell_type": "code",
   "execution_count": 19,
   "metadata": {},
   "outputs": [
    {
     "data": {
      "image/png": "[encoded data removed]",
      "text/plain": [
       "<Figure size 432x288 with 1 Axes>"
      ]
     },
     "metadata": {
      "needs_background": "light"
     },
     "output_type": "display_data"
    }
   ],
   "source": [
    "#cluster on plot\n",
    "colors = ['blue', 'orange', 'green', 'red', 'purple', 'brown', 'pink', 'gray', 'olive', 'cyan']\n",
    "for classification in scratch_model.classes:\n",
    "    color = colors[classification]\n",
    "    for features in scratch_model.classes[classification]:\n",
    "        plt.scatter(features[0], features[1],color = color,s = 30)"
   ]
  },
  {
   "cell_type": "code",
   "execution_count": null,
   "metadata": {},
   "outputs": [],
   "source": []
  }
 ],
 "metadata": {
  "kernelspec": {
   "display_name": "Python 3",
   "language": "python",
   "name": "python3"
  },
  "language_info": {
   "codemirror_mode": {
    "name": "ipython",
    "version": 3
   },
   "file_extension": ".py",
   "mimetype": "text/x-python",
   "name": "python",
   "nbconvert_exporter": "python",
   "pygments_lexer": "ipython3",
   "version": "3.7.3"
  }
 },
 "nbformat": 4,
 "nbformat_minor": 2
}
